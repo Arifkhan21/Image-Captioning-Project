{
 "cells": [
  {
   "cell_type": "code",
   "execution_count": 1,
   "metadata": {},
   "outputs": [
    {
     "name": "stderr",
     "output_type": "stream",
     "text": [
      "Using TensorFlow backend.\n",
      "/usr/local/lib/python2.7/dist-packages/requests/__init__.py:83: RequestsDependencyWarning: Old version of cryptography ([1, 2, 3]) may cause slowdown.\n",
      "  warnings.warn(warning, RequestsDependencyWarning)\n"
     ]
    }
   ],
   "source": [
    "from keras.applications.inception_v3 import InceptionV3\n",
    "import pandas as pd\n",
    "import os\n",
    "import numpy as np\n",
    "from PIL import Image\n",
    "from keras.preprocessing import image"
   ]
  },
  {
   "cell_type": "code",
   "execution_count": 2,
   "metadata": {},
   "outputs": [],
   "source": [
    "model = InceptionV3(weights = 'imagenet',include_top = False,pooling='avg')"
   ]
  },
  {
   "cell_type": "code",
   "execution_count": 3,
   "metadata": {},
   "outputs": [],
   "source": [
    "images_dir = os.listdir(\"./Flickr8k_Dataset/Flicker8k_Dataset/\")\n",
    "\n",
    "images_path = './Flickr8k_Dataset/Flicker8k_Dataset/'\n",
    "captions_path = './Text/Flickr8k.token.txt'\n",
    "train_path = './Text/Flickr_8k.trainImages.txt'\n",
    "val_path = './Text/Flickr_8k.devImages.txt'\n",
    "test_path = './Text/Flickr_8k.testImages.txt'\n",
    "\n",
    "captions = open(captions_path, 'r').read().split(\"\\n\")\n",
    "x_train = open(train_path, 'r').read().split(\"\\n\")\n",
    "x_val = open(val_path, 'r').read().split(\"\\n\")\n",
    "x_test = x_val = open(test_path, 'r').read().split(\"\\n\")"
   ]
  },
  {
   "cell_type": "code",
   "execution_count": 4,
   "metadata": {},
   "outputs": [],
   "source": [
    "def preprocessing(path):\n",
    "    im = image.load_img(path,target_size=(299,299,3))\n",
    "    im = image.img_to_array(im)\n",
    "    im = np.expand_dims(im, axis=0)\n",
    "    return im\n",
    "    "
   ]
  },
  {
   "cell_type": "code",
   "execution_count": 5,
   "metadata": {},
   "outputs": [
    {
     "name": "stdout",
     "output_type": "stream",
     "text": [
      "1000\n",
      "2000\n",
      "3000\n"
     ]
    }
   ],
   "source": [
    "train_data = {}\n",
    "ctr=0\n",
    "for ix in x_train:\n",
    "    if ix == \"\":\n",
    "        continue\n",
    "    if ctr >= 3000:\n",
    "        break\n",
    "    ctr+=1\n",
    "    if ctr%1000==0:\n",
    "        print(ctr)\n",
    "    path = images_path + ix\n",
    "    img = preprocessing(path)\n",
    "    pred = model.predict(img).reshape(2048)\n",
    "    train_data[ix] = pred\n",
    "\n"
   ]
  },
  {
   "cell_type": "code",
   "execution_count": 6,
   "metadata": {},
   "outputs": [
    {
     "data": {
      "text/plain": [
       "(2048,)"
      ]
     },
     "execution_count": 6,
     "metadata": {},
     "output_type": "execute_result"
    }
   ],
   "source": [
    "train_data[train_data.keys()[0]].shape"
   ]
  },
  {
   "cell_type": "code",
   "execution_count": 7,
   "metadata": {},
   "outputs": [],
   "source": [
    "import pickle"
   ]
  },
  {
   "cell_type": "code",
   "execution_count": 8,
   "metadata": {},
   "outputs": [],
   "source": [
    "with open( \"train_encoded_images.p\", \"wb\" ) as pickle_f:\n",
    "    pickle.dump(train_data, pickle_f )"
   ]
  },
  {
   "cell_type": "code",
   "execution_count": null,
   "metadata": {},
   "outputs": [],
   "source": []
  }
 ],
 "metadata": {
  "kernelspec": {
   "display_name": "Python 3",
   "language": "python",
   "name": "python3"
  },
  "language_info": {
   "codemirror_mode": {
    "name": "ipython",
    "version": 2
   },
   "file_extension": ".py",
   "mimetype": "text/x-python",
   "name": "python",
   "nbconvert_exporter": "python",
   "pygments_lexer": "ipython2",
   "version": "2.7.12"
  }
 },
 "nbformat": 4,
 "nbformat_minor": 2
}
