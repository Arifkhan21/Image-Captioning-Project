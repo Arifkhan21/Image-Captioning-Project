{
 "cells": [
  {
   "cell_type": "code",
   "execution_count": 1,
   "metadata": {},
   "outputs": [],
   "source": [
    "import pandas as pd\n",
    "import os\n",
    "import numpy as np\n"
   ]
  },
  {
   "cell_type": "code",
   "execution_count": 2,
   "metadata": {},
   "outputs": [],
   "source": [
    "tr = open('Text/Flickr_8k.trainImages.txt')"
   ]
  },
  {
   "cell_type": "code",
   "execution_count": 3,
   "metadata": {},
   "outputs": [],
   "source": [
    "tok = open('Text/Flickr8k.token.txt')\n"
   ]
  },
  {
   "cell_type": "code",
   "execution_count": 4,
   "metadata": {},
   "outputs": [],
   "source": [
    "data = {}\n",
    "\n",
    "\n",
    "for line in tr.readlines():\n",
    "    # Read image name\n",
    "    img = line\n",
    "#     print(img)\n",
    "    img = img.strip() \n",
    "    leng = len(img)\n",
    "#     print(leng)\n",
    "    tok = open('Text/Flickr8k.token.txt')\n",
    "    for com_line in tok.readlines():\n",
    "        com_line = com_line.strip()\n",
    "        \n",
    "        if img == com_line[:leng].strip():\n",
    "#             print(com_line)\n",
    "            if not data.get(img, None):\n",
    "                data[img] = list()\n",
    "                data[img].append(com_line[(leng+2):].strip())\n",
    "            else:\n",
    "                data[img].append(com_line[(leng+2):].strip())\n",
    "    \n",
    "        \n",
    "                \n",
    "                \n",
    "            "
   ]
  },
  {
   "cell_type": "code",
   "execution_count": 5,
   "metadata": {},
   "outputs": [],
   "source": [
    "data_val = {}\n",
    "\n",
    "tv = open('Text/Flickr_8k.devImages.txt')\n",
    "for line in tv.readlines():\n",
    "    # Read image name\n",
    "    img = line\n",
    "#     print(img)\n",
    "    img = img.strip() \n",
    "    leng = len(img)\n",
    "#     print(leng)\n",
    "    tok = open('Text/Flickr8k.token.txt')\n",
    "    for com_line in tok.readlines():\n",
    "        com_line = com_line.strip()\n",
    "        \n",
    "        if img == com_line[:leng].strip():\n",
    "#             print(com_line)\n",
    "            if not data_val.get(img, None):\n",
    "                data_val[img] = list()\n",
    "                data_val[img].append(com_line[(leng+2):].strip())\n",
    "            else:\n",
    "                data_val[img].append(com_line[(leng+2):].strip())"
   ]
  },
  {
   "cell_type": "code",
   "execution_count": 6,
   "metadata": {},
   "outputs": [],
   "source": [
    "data_test = {}\n",
    "\n",
    "ts = open('Text/Flickr_8k.testImages.txt')\n",
    "for line in ts.readlines():\n",
    "    # Read image name\n",
    "    img = line\n",
    "#     print(img)\n",
    "    img = img.strip() \n",
    "    leng = len(img)\n",
    "#     print(leng)\n",
    "    tok = open('Text/Flickr8k.token.txt')\n",
    "    for com_line in tok.readlines():\n",
    "        com_line = com_line.strip()\n",
    "        \n",
    "        if img == com_line[:leng].strip():\n",
    "#             print(com_line)\n",
    "            if not data_test.get(img, None):\n",
    "                data_test[img] = list()\n",
    "                data_test[img].append(com_line[(leng+2):].strip())\n",
    "            else:\n",
    "                data_test[img].append(com_line[(leng+2):].strip())\n",
    "        "
   ]
  },
  {
   "cell_type": "code",
   "execution_count": 7,
   "metadata": {},
   "outputs": [],
   "source": [
    "\n",
    "        \n",
    "train_dataset = open('Text/flickr_8k_train_dataset.txt','wb')\n",
    "train_dataset.write(\"image_id\\tcaptions\\n\")\n",
    "\n",
    "val_dataset = open('Text/flickr_8k_val_dataset.txt','wb')\n",
    "val_dataset.write(\"image_id\\tcaptions\\n\")\n",
    "\n",
    "test_dataset = open('Text/flickr_8k_test_dataset.txt','wb')\n",
    "test_dataset.write(\"image_id\\tcaptions\\n\")\n",
    "        "
   ]
  },
  {
   "cell_type": "code",
   "execution_count": 8,
   "metadata": {},
   "outputs": [],
   "source": [
    "for img in data:\n",
    "    for val in data.get(img):\n",
    "        capt = \"<start> \"+ val + \" <end>\"\n",
    "        train_dataset.write(img+\"\\t\"+capt+\"\\n\")\n",
    "train_dataset.close()"
   ]
  },
  {
   "cell_type": "code",
   "execution_count": 9,
   "metadata": {},
   "outputs": [],
   "source": [
    "for img in data_test:\n",
    "    for val in data_test.get(img):\n",
    "        capt = \"<start> \"+ val + \" <end>\"\n",
    "        test_dataset.write(img+\"\\t\"+capt+\"\\n\")\n",
    "test_dataset.close()"
   ]
  },
  {
   "cell_type": "code",
   "execution_count": 10,
   "metadata": {},
   "outputs": [],
   "source": [
    "for img in data_val:\n",
    "    for val in data_val.get(img):\n",
    "        capt = \"<start> \"+ val + \" <end>\"\n",
    "        val_dataset.write(img+\"\\t\"+capt+\"\\n\")\n",
    "val_dataset.close()"
   ]
  },
  {
   "cell_type": "code",
   "execution_count": 11,
   "metadata": {},
   "outputs": [
    {
     "name": "stderr",
     "output_type": "stream",
     "text": [
      "Using TensorFlow backend.\n",
      "/usr/local/lib/python2.7/dist-packages/requests/__init__.py:83: RequestsDependencyWarning: Old version of cryptography ([1, 2, 3]) may cause slowdown.\n",
      "  warnings.warn(warning, RequestsDependencyWarning)\n"
     ]
    }
   ],
   "source": [
    "from keras.applications.inception_v3 import InceptionV3"
   ]
  },
  {
   "cell_type": "markdown",
   "metadata": {},
   "source": []
  },
  {
   "cell_type": "code",
   "execution_count": null,
   "metadata": {},
   "outputs": [],
   "source": []
  },
  {
   "cell_type": "code",
   "execution_count": null,
   "metadata": {},
   "outputs": [],
   "source": []
  },
  {
   "cell_type": "code",
   "execution_count": null,
   "metadata": {},
   "outputs": [],
   "source": []
  },
  {
   "cell_type": "code",
   "execution_count": null,
   "metadata": {},
   "outputs": [],
   "source": []
  },
  {
   "cell_type": "code",
   "execution_count": null,
   "metadata": {},
   "outputs": [],
   "source": []
  }
 ],
 "metadata": {
  "kernelspec": {
   "display_name": "Python 3",
   "language": "python",
   "name": "python3"
  },
  "language_info": {
   "codemirror_mode": {
    "name": "ipython",
    "version": 2
   },
   "file_extension": ".py",
   "mimetype": "text/x-python",
   "name": "python",
   "nbconvert_exporter": "python",
   "pygments_lexer": "ipython2",
   "version": "2.7.12"
  }
 },
 "nbformat": 4,
 "nbformat_minor": 2
}
